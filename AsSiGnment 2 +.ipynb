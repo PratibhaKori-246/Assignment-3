{
 "cells": [
  {
   "cell_type": "markdown",
   "id": "fd11e78a-31e4-4394-9cdb-fea6c4c0c160",
   "metadata": {},
   "source": [
    "# # Assignment - 3 {Data structure}"
   ]
  },
  {
   "cell_type": "markdown",
   "id": "cc39969d-4552-4fde-8307-bfee6985a0ba",
   "metadata": {},
   "source": [
    "Q1. Write a code to reverse a string."
   ]
  },
  {
   "cell_type": "code",
   "execution_count": 1,
   "id": "a3251061-214d-48a0-aca8-1c42abf2cf01",
   "metadata": {},
   "outputs": [
    {
     "data": {
      "text/plain": [
       "'eip nacirema ekil tsuj ohcysp tub teews'"
      ]
     },
     "execution_count": 1,
     "metadata": {},
     "output_type": "execute_result"
    }
   ],
   "source": [
    "# here using slicing of string\n",
    "string1 = 'sweet but psycho just like american pie'\n",
    "string1[ : : -1]"
   ]
  },
  {
   "cell_type": "markdown",
   "id": "1b2b2626-0717-44ba-a8da-d00a98ca40a7",
   "metadata": {},
   "source": [
    "Q2. Write a code to count the no. of vowels in a string."
   ]
  },
  {
   "cell_type": "code",
   "execution_count": 28,
   "id": "5c0c583e-a988-429e-8ad2-605bb3621e60",
   "metadata": {},
   "outputs": [
    {
     "name": "stdin",
     "output_type": "stream",
     "text": [
      "Enter the string hold your horses\n"
     ]
    },
    {
     "ename": "NameError",
     "evalue": "name 'str_lower' is not defined",
     "output_type": "error",
     "traceback": [
      "\u001b[1;31m---------------------------------------------------------------------------\u001b[0m",
      "\u001b[1;31mNameError\u001b[0m                                 Traceback (most recent call last)",
      "Cell \u001b[1;32mIn[28], line 7\u001b[0m\n\u001b[0;32m      4\u001b[0m vowels \u001b[38;5;241m=\u001b[39m \u001b[38;5;124m'\u001b[39m\u001b[38;5;124maeiou\u001b[39m\u001b[38;5;124m'\u001b[39m\n\u001b[0;32m      5\u001b[0m count \u001b[38;5;241m=\u001b[39m \u001b[38;5;241m0\u001b[39m\n\u001b[1;32m----> 7\u001b[0m \u001b[38;5;28;01mfor\u001b[39;00m i  \u001b[38;5;129;01min\u001b[39;00m str_lower:\n\u001b[0;32m      8\u001b[0m     \u001b[38;5;28;01mif\u001b[39;00m i \u001b[38;5;129;01mis\u001b[39;00m vowel:\n\u001b[0;32m      9\u001b[0m         count \u001b[38;5;241m+\u001b[39m\u001b[38;5;241m=\u001b[39m \u001b[38;5;241m1\u001b[39m\n",
      "\u001b[1;31mNameError\u001b[0m: name 'str_lower' is not defined"
     ]
    }
   ],
   "source": [
    "## one by one reading of elements of string\n",
    "str_ = input('Enter the string')\n",
    "str_ = str_.lower()\n",
    "vowels = 'aeiou'\n",
    "count = 0\n",
    "\n",
    "for i  in str_lower:\n",
    "    if i is vowel:\n",
    "        count += 1\n",
    "        \n",
    "print('total vowels in this string :' , count)        "
   ]
  },
  {
   "cell_type": "code",
   "execution_count": null,
   "id": "3e88e824-20d3-4939-a239-f01c82a75109",
   "metadata": {},
   "outputs": [],
   "source": []
  },
  {
   "cell_type": "markdown",
   "id": "e1894358-3113-4329-817f-e214f6f269c2",
   "metadata": {},
   "source": [
    "Q3. Write a code to check if a given string is a palindrome or not."
   ]
  },
  {
   "cell_type": "code",
   "execution_count": 6,
   "id": "18517e85-d9d3-4e7c-a545-beee3c804139",
   "metadata": {},
   "outputs": [
    {
     "name": "stdin",
     "output_type": "stream",
     "text": [
      "Enter a word Entertain\n"
     ]
    },
    {
     "name": "stdout",
     "output_type": "stream",
     "text": [
      "Its not a palinrdrome\n"
     ]
    }
   ],
   "source": [
    "sint_ = input('Enter a word')\n",
    "rev = sint_[ : : -1]\n",
    "\n",
    "if sint_ is rev:\n",
    "    print('Its a palindrome')\n",
    "else:\n",
    "    print('Its not a palinrdrome')"
   ]
  },
  {
   "cell_type": "markdown",
   "id": "74a7f198-ffe3-492a-92e3-b44ba15bdc84",
   "metadata": {},
   "source": [
    "Q4. Write a code to check if two given strings are anagrams of each other."
   ]
  },
  {
   "cell_type": "code",
   "execution_count": 20,
   "id": "4c50a580-3ee1-474c-854d-415c15daab88",
   "metadata": {},
   "outputs": [
    {
     "name": "stdin",
     "output_type": "stream",
     "text": [
      "Enter the word KARAN\n",
      "Enter the word NARAK\n"
     ]
    },
    {
     "name": "stdout",
     "output_type": "stream",
     "text": [
      "The strings are not anagram\n"
     ]
    }
   ],
   "source": [
    "def are_anagram(str_1 , str_2):\n",
    "     str_1 = input('Enter the word')\n",
    "     str_2 = input('Enter the word')\n",
    "\n",
    "if are_anagram(str_1 , str_2):\n",
    "    print('The strings are anagrams')\n",
    "else:\n",
    "    print('The strings are not anagram')"
   ]
  },
  {
   "cell_type": "markdown",
   "id": "31199a2c-2080-4831-bb79-36556cc6d511",
   "metadata": {},
   "source": [
    "Q5. Write a code to find all occurences of a given substring within another string."
   ]
  },
  {
   "cell_type": "code",
   "execution_count": 22,
   "id": "b1737dfd-2c2d-4ef8-93fb-909acf8f4f1a",
   "metadata": {},
   "outputs": [
    {
     "name": "stdout",
     "output_type": "stream",
     "text": [
      "Yes, its a part of string\n"
     ]
    }
   ],
   "source": [
    "mystring = 'Hey!! siri'\n",
    "substring  = 'siri'\n",
    "\n",
    "if substring in mystring :\n",
    "    print ('Yes, its a part of string')\n",
    "else:\n",
    "    print('No, its not apart of string')"
   ]
  },
  {
   "cell_type": "markdown",
   "id": "8d69ed30-1aef-43fb-9f2f-bd29d65bae2f",
   "metadata": {},
   "source": [
    "Q6.Write a code to perform basic string compression using the counts of repeated"
   ]
  },
  {
   "cell_type": "code",
   "execution_count": null,
   "id": "394e70f6-86fe-4f1a-8ec4-dcef49bb5c1b",
   "metadata": {},
   "outputs": [],
   "source": [
    "def compression1(str):\n",
    "    i = 0\n",
    "    while( i < len (str)):\n",
    "        count = 1\n",
    "        while(1 < len(str - 1) and str[i] == str[i+1]):\n",
    "            i  += 1\n",
    "            \n",
    "        print(str[i] , end = '')\n",
    "        if(count > 1):\n",
    "            print(count , end = '')\n",
    "\n",
    "str = input() "
   ]
  },
  {
   "cell_type": "markdown",
   "id": "bda656e0-f09d-44f9-a99a-d2ebfdbccd82",
   "metadata": {},
   "source": [
    "Q7. Write a code to determine if a string has all unique characters."
   ]
  },
  {
   "cell_type": "code",
   "execution_count": 2,
   "id": "20a5589f-4fdd-43aa-b5cb-4e5490857b47",
   "metadata": {},
   "outputs": [
    {
     "name": "stdout",
     "output_type": "stream",
     "text": [
      "True\n"
     ]
    }
   ],
   "source": [
    "def check_chars(s):\n",
    "\n",
    "    if s is None or len(s) == 0:\n",
    "         return False\n",
    "\n",
    "    for chars in s:\n",
    "            return True\n",
    "\n",
    "print(check_chars('black'))"
   ]
  },
  {
   "cell_type": "markdown",
   "id": "cbfd80c0-96d5-4b2c-bcbc-4b1750313869",
   "metadata": {},
   "source": [
    "Q8. Write a code to convert a given string to uppercase or lowercase."
   ]
  },
  {
   "cell_type": "code",
   "execution_count": 4,
   "id": "7b455805-e400-4237-9b18-2ae1b1cc2bad",
   "metadata": {},
   "outputs": [
    {
     "data": {
      "text/plain": [
       "'NETHERLAND'"
      ]
     },
     "execution_count": 4,
     "metadata": {},
     "output_type": "execute_result"
    }
   ],
   "source": [
    "text_ = 'netherland'\n",
    "text_.upper()"
   ]
  },
  {
   "cell_type": "code",
   "execution_count": 5,
   "id": "0f8ae28e-b171-4d93-85f0-92881e6d6221",
   "metadata": {},
   "outputs": [
    {
     "data": {
      "text/plain": [
       "'carpenter'"
      ]
     },
     "execution_count": 5,
     "metadata": {},
     "output_type": "execute_result"
    }
   ],
   "source": [
    "write_ = 'CARPENTER'\n",
    "write_.lower()"
   ]
  },
  {
   "cell_type": "markdown",
   "id": "74f36cb0-9473-4f63-8ede-27906bbc9212",
   "metadata": {},
   "source": [
    "Q9.Write a code to count the no. of words in a string."
   ]
  },
  {
   "cell_type": "code",
   "execution_count": 10,
   "id": "f3b79557-6965-475c-80f6-8551e80c18e3",
   "metadata": {},
   "outputs": [
    {
     "name": "stdout",
     "output_type": "stream",
     "text": [
      "number of words: 4\n"
     ]
    }
   ],
   "source": [
    "str_1 = 'As calm as cucumber'\n",
    "word_count = len(str_1.split())\n",
    "print('number of words:' , word_count)"
   ]
  },
  {
   "cell_type": "markdown",
   "id": "b92270f7-e018-43eb-9fdf-df99697a63d8",
   "metadata": {},
   "source": [
    "Q10. Write a code to concatenate two strings without using the + operator."
   ]
  },
  {
   "cell_type": "code",
   "execution_count": 20,
   "id": "21beb470-c0a3-4bbc-b9a4-1bb7f964f93d",
   "metadata": {},
   "outputs": [
    {
     "data": {
      "text/plain": [
       "'hello world'"
      ]
     },
     "execution_count": 20,
     "metadata": {},
     "output_type": "execute_result"
    }
   ],
   "source": [
    "#using '+' operator\n",
    "str1 = 'hello'\n",
    "str2 = 'world'\n",
    "str1 + ' ' + str2"
   ]
  },
  {
   "cell_type": "code",
   "execution_count": 19,
   "id": "71691260-95ac-4a1b-82f3-97dffe0d343e",
   "metadata": {},
   "outputs": [
    {
     "name": "stdout",
     "output_type": "stream",
     "text": [
      "Jack Sparrow\n"
     ]
    }
   ],
   "source": [
    "#using join method\n",
    "str1 = 'Jack'\n",
    "str2 = 'Sparrow'\n",
    "r = ' '.join([str1 , str2])\n",
    "\n",
    "print(r)"
   ]
  },
  {
   "cell_type": "markdown",
   "id": "43ff7c96-88cc-4dcb-af3a-b4649f015ab8",
   "metadata": {},
   "source": [
    "Q11. Write a code to remove all occurrences of a specific element from a list."
   ]
  },
  {
   "cell_type": "code",
   "execution_count": 31,
   "id": "af30e12c-52e1-45fc-a9ee-de5b74ac8139",
   "metadata": {},
   "outputs": [
    {
     "name": "stdout",
     "output_type": "stream",
     "text": [
      "[24, 9.2, 'balloon', 11, 1.98]\n"
     ]
    }
   ],
   "source": [
    "def emm(old_list, removed_element):\n",
    "     \n",
    "    filtered_list = [item for item in old_list if item != removed_element]\n",
    "    return filtered_list\n",
    "\n",
    "list1 = [24, 8, 9.2, 'balloon', 11, 1.98, 8.0]\n",
    "removed_element = 8\n",
    "\n",
    "bb_ = emm(list1, removed_element)\n",
    "print(bb_)"
   ]
  },
  {
   "cell_type": "markdown",
   "id": "72828f83-08a8-476f-895d-8f3a2e07537b",
   "metadata": {},
   "source": [
    "Q12. Implememt a code to find the second largest no. in a given list of integers."
   ]
  },
  {
   "cell_type": "code",
   "execution_count": null,
   "id": "3c87e276-7efe-41f3-bb17-41bc84dda8d3",
   "metadata": {},
   "outputs": [],
   "source": [
    "list4 = [45 , 90 , 19 , 56 , 88 , 23 ]\n",
    "largest_num = "
   ]
  },
  {
   "cell_type": "markdown",
   "id": "e27e134b-3793-44f6-aea6-0c1eb4d3828a",
   "metadata": {},
   "source": [
    "Q13. Create  a code to count the occurence of each element in a list amd return a dictionary with elements as keys and their counts as values."
   ]
  },
  {
   "cell_type": "markdown",
   "id": "fda9ef5e-582d-447c-a481-8470c4dd7aef",
   "metadata": {},
   "source": [
    "Q14. Write a code to reverse a list in - place without using any built-in reverse functions."
   ]
  },
  {
   "cell_type": "code",
   "execution_count": 49,
   "id": "3ecd7e4e-fcaf-4861-8c23-aa2b3a500ba3",
   "metadata": {},
   "outputs": [],
   "source": [
    "def count_elements(numbers):\n",
    "    elements_dict = {}\n",
    "    \n",
    "    for number in numbers:\n",
    "        if number in elements_dict:\n",
    "            elements_dict[number] += 1\n",
    "        else:\n",
    "            elements_dict[number] = 1\n",
    "\n",
    "    return elements_dict \n"
   ]
  },
  {
   "cell_type": "code",
   "execution_count": 50,
   "id": "2767e83f-0126-4c48-af9b-c6177480ef42",
   "metadata": {},
   "outputs": [
    {
     "name": "stdout",
     "output_type": "stream",
     "text": [
      "{1: 2, 3: 2, 2: 2, 7: 2}\n"
     ]
    }
   ],
   "source": [
    "numbers = [1 , 3,  2, 7 , 7 , 1, 2 , 3]\n",
    "result = count_elements(numbers)\n",
    "print(result)"
   ]
  },
  {
   "cell_type": "markdown",
   "id": "060fb37b-bc96-4dbc-88e6-b0f81a6ffe51",
   "metadata": {},
   "source": [
    "Q15. Implement a code to find and removve duplicates from a list while preserving the original order of elements."
   ]
  },
  {
   "cell_type": "code",
   "execution_count": 54,
   "id": "a8c7ccb1-8653-4700-a641-d883af42f47c",
   "metadata": {},
   "outputs": [
    {
     "name": "stdout",
     "output_type": "stream",
     "text": [
      "[2, 7, 9, 3]\n"
     ]
    }
   ],
   "source": [
    "old_list = [2 ,7 , 9 ,9 , 2 , 2 , 7 , 7 , 3 ,3 , 3 ]\n",
    "\n",
    "seen_set = set()\n",
    "new_list = [item for item in old_list if not(item in seen_set or seen_set.add(item))]\n",
    "\n",
    "print(new_list)"
   ]
  },
  {
   "cell_type": "markdown",
   "id": "b7f0ced7-5595-41a1-a605-f245508c806c",
   "metadata": {},
   "source": [
    "Q16. Create a code to check if a given list is sorted (either in ascending order or descending order ) or not."
   ]
  },
  {
   "cell_type": "code",
   "execution_count": 56,
   "id": "ea219508-a06e-4b1b-9519-5e2f325530a0",
   "metadata": {},
   "outputs": [
    {
     "name": "stdout",
     "output_type": "stream",
     "text": [
      "[2, 2, 2, 3, 3, 3, 7, 7, 7, 9, 9]\n"
     ]
    }
   ],
   "source": [
    "old_list = [2 ,7 , 9 ,9 , 2 , 2 , 7 , 7 , 3 ,3 , 3 ]\n",
    "old_list.sort()\n",
    "\n",
    "print(old_list)"
   ]
  },
  {
   "cell_type": "markdown",
   "id": "427d2569-3196-4a08-b4bf-7fc00d125a6c",
   "metadata": {},
   "source": [
    "Q17. Write a code to merge two sorted lists into a single sorted list."
   ]
  },
  {
   "cell_type": "code",
   "execution_count": 57,
   "id": "67cd2f28-51a9-46bb-878d-935124a93aba",
   "metadata": {},
   "outputs": [
    {
     "data": {
      "text/plain": [
       "[1, 44, 8, 9.0, 4.6, 5.78, 2.9, 7, 69, 11, 90, 9.2]"
      ]
     },
     "execution_count": 57,
     "metadata": {},
     "output_type": "execute_result"
    }
   ],
   "source": [
    "list__1 = [1 , 44 , 8 ,9.0 , 4.6 , 5.780 ]\n",
    "list__2 = [2.9 , 7 , 69 , 11 , 90 , 9.2 ]\n",
    "\n",
    "list__1 + list__2"
   ]
  },
  {
   "cell_type": "code",
   "execution_count": 62,
   "id": "7f3c387e-ca78-465b-830f-2e2d0feadf10",
   "metadata": {},
   "outputs": [
    {
     "name": "stdout",
     "output_type": "stream",
     "text": [
      "[2.9, 7, 69, 11, 90, 9.2, 1, 44, 8, 9.0, 4.6, 5.78]\n"
     ]
    }
   ],
   "source": [
    "list__1 = [1 , 44 , 8 ,9.0 , 4.6 , 5.780 ]\n",
    "list__2 = [2.9 , 7 , 69 , 11 , 90 , 9.2 ]\n",
    "\n",
    "list__2.extend(list__1)\n",
    "\n",
    "print(list__2)"
   ]
  },
  {
   "cell_type": "code",
   "execution_count": 61,
   "id": "33763a10-a012-48b4-be1e-cbdea875de56",
   "metadata": {},
   "outputs": [
    {
     "name": "stdout",
     "output_type": "stream",
     "text": [
      "[600, 1991, 834, 1, 44, 8, 9.0, 4.6, 5.78, 2.9, 7, 69, 11, 90, 9.2]\n"
     ]
    }
   ],
   "source": [
    "list__1 = [1 , 44 , 8 ,9.0 , 4.6 , 5.780 ]\n",
    "list__2 = [2.9 , 7 , 69 , 11 , 90 , 9.2 ]\n",
    "list__3 = [600 , 1991 , 834 ]\n",
    "\n",
    "for item in list__1 :\n",
    "    list__3.append(item)\n",
    "for item in list__2:\n",
    "    list__3.append(item)\n",
    "\n",
    "print(list__3)"
   ]
  },
  {
   "cell_type": "markdown",
   "id": "3e63205c-2b64-4642-936d-5788cf28fa67",
   "metadata": {},
   "source": [
    "Q18. Write a code to find the intersection of two given lists."
   ]
  },
  {
   "cell_type": "code",
   "execution_count": 72,
   "id": "6f3b9862-23b1-4276-8966-13c54bcb7462",
   "metadata": {},
   "outputs": [
    {
     "name": "stdout",
     "output_type": "stream",
     "text": [
      "[2, 11, 21.2]\n"
     ]
    }
   ],
   "source": [
    "def intersection(list1, list2):\n",
    "    set1 = set(list_)\n",
    "    set2 = set(_list)\n",
    "\n",
    "list_ = [ 2, 444, 21.2 , 9 , 3 , 34 , 11]\n",
    "_list = [ 14 , 21.2 , 42 , 11 , 2 , 100 ]\n",
    "\n",
    "intersection =  list(set1 & set2)\n",
    "\n",
    "print(intersection)"
   ]
  },
  {
   "cell_type": "markdown",
   "id": "2727519c-def1-4fe8-ab58-8a38b99145f9",
   "metadata": {},
   "source": [
    "Q19. Create a code to find the union of two lists without duplicates."
   ]
  },
  {
   "cell_type": "code",
   "execution_count": 78,
   "id": "ba823cc5-38b6-4ca2-916e-42cd5b5cac91",
   "metadata": {},
   "outputs": [
    {
     "name": "stdout",
     "output_type": "stream",
     "text": [
      "[2, 3, 34, 100, 9, 42, 11, 14, 21.2, 444]\n"
     ]
    }
   ],
   "source": [
    "def union (list_, _list):\n",
    "    set1 = set(list_)\n",
    "    set2 = set(_list)\n",
    "\n",
    "list_ = [2 , 8 , 77 , 90 , 10 , 5]\n",
    "_list = [11 , 77 , 30]\n",
    "\n",
    "union = list(set1| set2)\n",
    "print(union)"
   ]
  },
  {
   "cell_type": "markdown",
   "id": "cf9b2806-d00f-4e42-9703-6236a715517b",
   "metadata": {},
   "source": [
    "Q 20. Write a code to shuffle a given list randomly without using any built -in shuffle functions."
   ]
  },
  {
   "cell_type": "markdown",
   "id": "47f5afda-d267-4a48-a151-8acec51bb1cc",
   "metadata": {},
   "source": [
    "Q 21. Write a code that makes tuples as input and returns a new tuple containing elements that are common to both input tuples."
   ]
  },
  {
   "cell_type": "code",
   "execution_count": 6,
   "id": "69c58769-6f58-4795-ace9-ea381099c4b6",
   "metadata": {},
   "outputs": [
    {
     "name": "stdout",
     "output_type": "stream",
     "text": [
      "(77,)\n"
     ]
    }
   ],
   "source": [
    "def commom_elements(tuple_ , _tuple):\n",
    "    common = set(tuple_).intersection(set(_tuple))\n",
    "    \n",
    "    return tuple(common)\n",
    "\n",
    "tuple_ = (2 , 8 , 77 , 90 , 10 , 5)\n",
    "_tuple = (11 , 77 , 30 )\n",
    "result = commom_elements(tuple_ , _tuple)\n",
    "print(result)"
   ]
  },
  {
   "cell_type": "markdown",
   "id": "6a5ffb4a-904c-4c26-9cca-4185728409e4",
   "metadata": {},
   "source": [
    "Q 22. Create a code that prompts the user to enter two sets of integers separated by commas . Then, print the intersection of these two sets ."
   ]
  },
  {
   "cell_type": "code",
   "execution_count": 5,
   "id": "e46b20e9-1ebc-40c0-a221-0a0cf018f117",
   "metadata": {},
   "outputs": [
    {
     "name": "stdout",
     "output_type": "stream",
     "text": [
      "{2, -90}\n"
     ]
    }
   ],
   "source": [
    "def intersection(first_set , second_set):\n",
    "     common = (first_set).intersection(second_set)\n",
    "    \n",
    "     return set(common)\n",
    "\n",
    "first_set = {3 , 2 ,77, -90 , 17 , 63}\n",
    "second_set = {2 , -90 , 1 , 72 , 0}\n",
    "\n",
    "intersection = first_set & second_set\n",
    "print(intersection)\n"
   ]
  },
  {
   "cell_type": "markdown",
   "id": "c8056352-c2b9-456b-bd72-64758a27bda8",
   "metadata": {},
   "source": [
    "Q 23. Write a code o concentrate two tuples. The function should take two tuples as inputs and returns a new tuple containing elements from both input tuples."
   ]
  },
  {
   "cell_type": "code",
   "execution_count": 11,
   "id": "5458707e-2aa6-41b1-8867-3fdbbce50f0b",
   "metadata": {},
   "outputs": [
    {
     "name": "stdout",
     "output_type": "stream",
     "text": [
      "(22, -1, 101, 26, 14, -72.1, 18, -11.6)\n"
     ]
    }
   ],
   "source": [
    "def concatenate_tuples(first_tuple , second_tuple):\n",
    "    all_values = (first_tuple) + (second_tuple)\n",
    "    return all_values\n",
    "\n",
    "first_tuple = (22 , -1 , 101 , 26)\n",
    "second_tuple = (14 , -72.1 , 18 , -11.6)\n",
    "\n",
    "result = concatenate_tuples(first_tuple , second_tuple)\n",
    "print(result)"
   ]
  },
  {
   "cell_type": "markdown",
   "id": "b9088448-ec2e-40de-9565-a457770b3dcd",
   "metadata": {},
   "source": [
    "Q 24. Develop a code that prompts the user to input two sets of strings. Then, print the elements that are present in the first set but not in the second set."
   ]
  },
  {
   "cell_type": "code",
   "execution_count": 14,
   "id": "4ec5730c-cab1-4785-8372-b5124cf19aa3",
   "metadata": {},
   "outputs": [
    {
     "name": "stdout",
     "output_type": "stream",
     "text": [
      "{'n', \"'\", 'i', 'g', 'b', 't', 'a', 'm', ',', 'T'}\n"
     ]
    }
   ],
   "source": [
    "def unique_elements(first_string , second_string):\n",
    "    main_values = set(first_string) - set(second_string)\n",
    "    return main_values\n",
    "\n",
    "first_string = 'The lights are on , but nobody\\'s home'\n",
    "second_string = 'Hold your horses!!'\n",
    "\n",
    "result = unique_elements(first_string , second_string)\n",
    "print(result)"
   ]
  },
  {
   "cell_type": "markdown",
   "id": "d2b7208b-5846-4f09-9ad9-59602b8d823f",
   "metadata": {},
   "source": [
    "Q 25. Create a code hat makes a tuple and two integers as input. The function should return a new tuple containing elements from the original tuple within the specific range of indices."
   ]
  },
  {
   "cell_type": "code",
   "execution_count": 16,
   "id": "b8bed5dd-4cf1-42ef-8043-f8c544122d9d",
   "metadata": {},
   "outputs": [
    {
     "name": "stdout",
     "output_type": "stream",
     "text": [
      "(8, 11, 92, 37)\n"
     ]
    }
   ],
   "source": [
    "def slice_tuple(original_tup , start_index , end_index):\n",
    "    return original_tup [start_index : end_index]\n",
    "\n",
    "original_tup = (2 ,8 ,11 , 92 , 37 , 70)\n",
    "start_index = 1\n",
    "end_index = 5\n",
    "\n",
    "output = slice_tuple(original_tup , start_index , end_index)\n",
    "print(output)"
   ]
  },
  {
   "cell_type": "markdown",
   "id": "cf6b5d5f-90be-4bdb-a138-b384381609f7",
   "metadata": {},
   "source": [
    "Q 26. Write a code that prompts the user to input two sets of characters. Then , print the union of these two sets."
   ]
  },
  {
   "cell_type": "code",
   "execution_count": 22,
   "id": "d0142aa9-bc6b-4ca4-a5d5-f4c5416f00a5",
   "metadata": {},
   "outputs": [
    {
     "name": "stdout",
     "output_type": "stream",
     "text": [
      "{'s', 'j', 'o', 'w', 'q'}\n"
     ]
    }
   ],
   "source": [
    "def commmon_characters(_set , __set):\n",
    "    main_values = (_set).intersection(__set)\n",
    "    return main_values\n",
    "\n",
    "_set = {'s' , 'j' , 'w' , 'o' , 'x' , 'q' , 'e'}\n",
    "__set = {'r' , 's' , 'q' , 'j' , 'o' , 'w'}\n",
    "\n",
    "output = commmon_characters(_set , __set)\n",
    "print(output)"
   ]
  },
  {
   "cell_type": "markdown",
   "id": "d64956c2-f417-4111-aad7-07fb4163259d",
   "metadata": {},
   "source": [
    "Q 27. Develop a code that takes atuple of integers as input. The function should return the maximum and  minimum values from the tuple using upcoming."
   ]
  },
  {
   "cell_type": "code",
   "execution_count": 26,
   "id": "d4b7552d-8186-438b-88fb-429928ba178f",
   "metadata": {},
   "outputs": [
    {
     "name": "stdout",
     "output_type": "stream",
     "text": [
      "(71, 10)\n"
     ]
    }
   ],
   "source": [
    "def max_min_values(tuple1):\n",
    "    max_value = max(tuple1)\n",
    "    min_value = min(tuple1)\n",
    "    \n",
    "    return max_value , min_value\n",
    "\n",
    "tuple1 = (22 ,71 , 28 , 70 ,45 , 38 , 55 , 10)\n",
    "\n",
    "result = max_min_values(tuple1)\n",
    "print(result)"
   ]
  },
  {
   "cell_type": "markdown",
   "id": "4569d83c-b82a-4bec-8d2d-3bb6a4528700",
   "metadata": {},
   "source": [
    "Q 28. Create a code that defines two sets of integers. Then, print the union , intersection and difference of these two sets."
   ]
  },
  {
   "cell_type": "code",
   "execution_count": 27,
   "id": "8ff57724-6cd2-4b2c-8b14-b7d1fda1b199",
   "metadata": {},
   "outputs": [
    {
     "name": "stdout",
     "output_type": "stream",
     "text": [
      "{2, -90}\n"
     ]
    }
   ],
   "source": [
    "def intersection(first_set , second_set):\n",
    "     common = (first_set).intersection(second_set)\n",
    "    \n",
    "     return set(common)\n",
    "\n",
    "first_set = {3 , 2 ,77, -90 , 17 , 63}\n",
    "second_set = {2 , -90 , 1 , 72 , 0}\n",
    "\n",
    "result = intersection(first_set , second_set)\n",
    "print(result)"
   ]
  },
  {
   "cell_type": "code",
   "execution_count": null,
   "id": "79f7a1c4-6f5a-4e51-bde6-c1541b6dccaf",
   "metadata": {},
   "outputs": [],
   "source": [
    "def  union(first_set , second_set):\n",
    "    all_values = (first_set).union(second_set)\n",
    "    return all_values\n",
    "\n",
    "first_set = {3 , 2 ,77, -90 , 17 , 63}\n",
    "second_set = {2 , -90 , 1 , 72 , 0}\n",
    "\n",
    "result =  union(first_set , second_set)\n",
    "print(result)"
   ]
  },
  {
   "cell_type": "code",
   "execution_count": 32,
   "id": "50a2acf3-4782-4af0-9fa6-8b2153f492c5",
   "metadata": {},
   "outputs": [
    {
     "name": "stdout",
     "output_type": "stream",
     "text": [
      "{17, 3, 77, 63}\n"
     ]
    }
   ],
   "source": [
    "def difference(first_set , second_set):\n",
    "    major_values = (first_set) - (second_set)\n",
    "    return major_values\n",
    "\n",
    "first_set = {3 , 2 ,77, -90 , 17 , 63}\n",
    "second_set = {2 , -90 , 1 , 72 , 0}\n",
    "\n",
    "output = difference(first_set , second_set)\n",
    "print(output)"
   ]
  },
  {
   "cell_type": "markdown",
   "id": "210bbf06-f22b-48df-b6fa-4532cef90137",
   "metadata": {},
   "source": [
    "Q 29. Write a code that takes a tuple and an element as input. The function should return the count of occurences of the given elements in the tuple."
   ]
  },
  {
   "cell_type": "code",
   "execution_count": 9,
   "id": "7c37edc1-7eb8-457d-a8ab-bfbbbc636dbe",
   "metadata": {},
   "outputs": [
    {
     "name": "stdout",
     "output_type": "stream",
     "text": [
      "{8: 2, 9: 2, 2: 2, 4: 3}\n"
     ]
    }
   ],
   "source": [
    "def input_tuple(ex_tuple):\n",
    "    values_count = {}\n",
    "\n",
    "    for element in set(ex_tuple):\n",
    "        values_count[element] = ex_tuple.count(element)\n",
    "    \n",
    "    return values_count\n",
    "\n",
    "ex_tuple = (2, 8, 9, 4, 2, 8, 4, 4, 9)\n",
    "\n",
    "output = input_tuple(ex_tuple)\n",
    "print(output)"
   ]
  },
  {
   "cell_type": "markdown",
   "id": "72aec758-78cd-462c-8cbb-bf3d97781190",
   "metadata": {},
   "source": [
    "Q 30. Develop a code that prompts the user o input two sets of strings. Then, print the symmetric difference of these two sets."
   ]
  },
  {
   "cell_type": "code",
   "execution_count": 18,
   "id": "7bcc2727-4221-4998-b4ca-b9eecf4597b6",
   "metadata": {},
   "outputs": [
    {
     "name": "stdout",
     "output_type": "stream",
     "text": [
      "{8: 2, 9: 2, 2: 2, 4: 3}\n"
     ]
    }
   ],
   "source": [
    "def symmetric_difference(strin1 , strin2):\n",
    "    set1 = set(strin1)\n",
    "    set2 = set(strin2)\n",
    "    \n",
    "    sym_diff = set1.symmetric_difference(set2)\n",
    "\n",
    "strin1 = (24 , 78 , 9 , 11 , 9.08)\n",
    "strin2 = (222 , -87.3 , -11 , 0.3)\n",
    "\n",
    "result = symmetric_difference(strin1 , strin2)\n",
    "print(output)"
   ]
  },
  {
   "cell_type": "markdown",
   "id": "13eed6e0-0217-4ba9-872e-fcce82fdff99",
   "metadata": {},
   "source": [
    "Q 31. Write a code that takes a list of words as input and returns a dictionary where the keys are unique woeds and the values are the frequencies of those words in the input list."
   ]
  },
  {
   "cell_type": "code",
   "execution_count": 22,
   "id": "d1bdf6f8-a127-44e1-ad6e-4b15060f7c6a",
   "metadata": {},
   "outputs": [
    {
     "name": "stdin",
     "output_type": "stream",
     "text": [
      "Enter a list of words separated by spaces:  'apple': 3, 'orange': 1, 'banana': 1, 'grape': 1}\n"
     ]
    },
    {
     "name": "stdout",
     "output_type": "stream",
     "text": [
      "Word frequencies: {\"'apple':\": 1, '3,': 1, \"'orange':\": 1, '1,': 2, \"'banana':\": 1, \"'grape':\": 1, '1}': 1}\n"
     ]
    }
   ],
   "source": [
    "def word_frequencies(word_list):\n",
    "    frequency_dict = {}\n",
    "\n",
    "    for word in word_list:\n",
    "\n",
    "        if word in frequency_dict:\n",
    "            frequency_dict[word] += 1\n",
    "        else:\n",
    "            frequency_dict[word] = 1\n",
    "\n",
    "    return frequency_dict\n",
    "\n",
    "words_input = input(\"Enter a list of words separated by spaces: \")\n",
    "words_list = words_input.split()\n",
    "\n",
    "result = word_frequencies(words_list)\n",
    "print(\"Word frequencies:\", result)"
   ]
  },
  {
   "cell_type": "markdown",
   "id": "91722375-6fd8-47e6-a890-e0a4e6e7532e",
   "metadata": {},
   "source": [
    "Q 32. Write a code that takes two  dictionaries as input and merges them into a single dictionary. if there are commomn keys , the values should be added together."
   ]
  },
  {
   "cell_type": "code",
   "execution_count": 25,
   "id": "35066b4c-588a-473c-9c15-cba8f936177e",
   "metadata": {},
   "outputs": [
    {
     "name": "stdout",
     "output_type": "stream",
     "text": [
      "Merged dictionary: None\n"
     ]
    }
   ],
   "source": [
    "def merge_dictionaries(dict1, dict2):\n",
    "    dict1 = {'a': 1, 'b': 2, 'c': 3}\n",
    "    dict2 = {'b': 3, 'c': 4, 'd': 5}\n",
    "\n",
    "result = merge_dictionaries(dict1, dict2)\n",
    "print(\"Merged dictionary:\", result)"
   ]
  },
  {
   "cell_type": "markdown",
   "id": "9ff4978d-4749-4623-9ecc-41f343254f53",
   "metadata": {},
   "source": [
    "Q34. Write a code that makes a dictionary as input and returns a sorted version of it based on the values. You can choose to sort in ascending or decending order."
   ]
  }
 ],
 "metadata": {
  "kernelspec": {
   "display_name": "Python 3 (ipykernel)",
   "language": "python",
   "name": "python3"
  },
  "language_info": {
   "codemirror_mode": {
    "name": "ipython",
    "version": 3
   },
   "file_extension": ".py",
   "mimetype": "text/x-python",
   "name": "python",
   "nbconvert_exporter": "python",
   "pygments_lexer": "ipython3",
   "version": "3.12.4"
  }
 },
 "nbformat": 4,
 "nbformat_minor": 5
}
